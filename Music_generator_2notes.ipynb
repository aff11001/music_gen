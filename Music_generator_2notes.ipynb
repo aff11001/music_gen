{
 "cells": [
  {
   "cell_type": "code",
   "execution_count": 1,
   "metadata": {},
   "outputs": [],
   "source": [
    "import scipy as sci\n",
    "\n",
    "import numpy as np\n",
    "\n",
    "import matplotlib.pyplot as plt\n",
    "\n",
    "from scipy.io.wavfile import write\n"
   ]
  },
  {
   "cell_type": "code",
   "execution_count": 9,
   "metadata": {},
   "outputs": [],
   "source": [
    "# need to write something that maps a string of notes:\n",
    "\n",
    "# ref: https://pypi.org/project/playsound/\n",
    "# https://towardsdatascience.com/mathematics-of-music-in-python-b7d838c84f72\n",
    "# https://github.com/weeping-angel/Mathematics-of-Music\n",
    "\n",
    "# C major songs\n",
    "# C - D - E - F - G - A - B\n",
    "\n",
    "# randomly generate a digit from 1 through 7\n",
    "\n",
    "\n",
    "#ideas for next one... Jazz improvisor. Do some probabilistic distributions for how many steps to take at each note\n",
    "\n",
    "#make it a monte carlo\n"
   ]
  },
  {
   "cell_type": "code",
   "execution_count": 33,
   "metadata": {},
   "outputs": [
    {
     "name": "stdout",
     "output_type": "stream",
     "text": [
      "[2 0 4 0 4 2 6 2 0 0 4 0 2 6 6 0]\n",
      "[3 6 6 4 2 6 6 4 4 5 1 5 4 4 3 2]\n"
     ]
    }
   ],
   "source": [
    "m = 4 #number of measures\n",
    "l_ints = m*4\n",
    "\n",
    "ints = np.random.randint(0,7,l_ints) # rand ints length of the measures\n",
    "\n",
    "ints2 = np.random.randint(0,7,l_ints) # rand ints length of the measures\n",
    "\n",
    "print(ints)\n",
    "print(ints2)"
   ]
  },
  {
   "cell_type": "code",
   "execution_count": 11,
   "metadata": {},
   "outputs": [
    {
     "name": "stdout",
     "output_type": "stream",
     "text": [
      "['a', 'b', 'c', 'd', 'e', 'f', 'g']\n"
     ]
    }
   ],
   "source": [
    "#convert ints to strings\n",
    "notes = ['a','b','c','d','e','f','g']\n",
    "print(notes)"
   ]
  },
  {
   "cell_type": "code",
   "execution_count": 12,
   "metadata": {},
   "outputs": [
    {
     "data": {
      "text/plain": [
       "'a'"
      ]
     },
     "execution_count": 12,
     "metadata": {},
     "output_type": "execute_result"
    }
   ],
   "source": [
    "notes[0]"
   ]
  },
  {
   "cell_type": "code",
   "execution_count": 13,
   "metadata": {},
   "outputs": [],
   "source": [
    "#mel = ''\n",
    "\n",
    "#for i in range(l_ints):\n",
    "    \n",
    "#    print(notes[ints[i]])\n",
    "    \n",
    "#    mel = mel + notes[ints[i]]"
   ]
  },
  {
   "cell_type": "code",
   "execution_count": 14,
   "metadata": {},
   "outputs": [],
   "source": [
    "#print(mel)"
   ]
  },
  {
   "cell_type": "code",
   "execution_count": 15,
   "metadata": {},
   "outputs": [],
   "source": [
    "# frequencies from middle C (C4)\n",
    "# https://pages.mtu.edu/~suits/notefreqs.html\n",
    "\n",
    "# frequency (Hz) and wavelength (cm)\n",
    "\n",
    "# A3 - 220.00, 156.82\n",
    "# B3 - 246.94, 139.71 \n",
    "# C4 - 261.63, 131.87\n",
    "# D4 - 293.66, 117.48\n",
    "# E4 - 329.63, 104.66\n",
    "# F4 - 349.23, 98.79\n",
    "# G4 - 392.00, 88.01\n"
   ]
  },
  {
   "cell_type": "code",
   "execution_count": 16,
   "metadata": {},
   "outputs": [],
   "source": [
    "# https://pages.mtu.edu/~suits/Physicsofmusic.html\n",
    "\n",
    "# simplest model of musical sound, sign wave\n",
    "# https://amath.colorado.edu/pub/matlab/music/MathMusic.pdf\n",
    "\n",
    "# wave equation: P = A sin (2*pi*f*t)\n",
    "# P is pressure\n",
    "# A is amplitude (corresponds to volume)\n",
    "# f is frequency\n",
    "# t is period\n",
    "\n",
    "As = np.ones((l_ints)) #amplidule\n",
    "fs = np.array([220.00,246.94,261.63,293.66,329.63,349.23,392.00])\n"
   ]
  },
  {
   "cell_type": "code",
   "execution_count": 17,
   "metadata": {},
   "outputs": [
    {
     "name": "stdout",
     "output_type": "stream",
     "text": [
      "6250\n"
     ]
    }
   ],
   "source": [
    "# need to find a time interval to play the song, the wave switches to the form of the random note\n",
    "\n",
    "# each note is 1 second\n",
    "\n",
    "# time in seconds: \n",
    "\n",
    "t = l_ints\n",
    "\n",
    "l_ts= 100000\n",
    "\n",
    "t_note = 1\n",
    "\n",
    "ts = np.arange(0,l_ts)/l_ts*(l_ints*t_note)\n",
    "\n",
    "rate = int(l_ts/(l_ints*t_note))\n",
    "\n",
    "print(rate)"
   ]
  },
  {
   "cell_type": "code",
   "execution_count": 40,
   "metadata": {},
   "outputs": [
    {
     "name": "stdout",
     "output_type": "stream",
     "text": [
      "[]\n"
     ]
    },
    {
     "data": {
      "text/plain": [
       "3.141592653589793"
      ]
     },
     "execution_count": 40,
     "metadata": {},
     "output_type": "execute_result"
    }
   ],
   "source": [
    "Ps = np.array([])\n",
    "print(Ps)\n",
    "np.pi"
   ]
  },
  {
   "cell_type": "code",
   "execution_count": 41,
   "metadata": {},
   "outputs": [
    {
     "name": "stdout",
     "output_type": "stream",
     "text": [
      "[ 0.          0.55094667  1.05883653 ... -0.89838476 -0.45143339\n",
      "  0.01797927]\n"
     ]
    }
   ],
   "source": [
    "#can I make this not a loop?\n",
    "\n",
    "\n",
    "t0 = 0\n",
    "\n",
    "# amplitude = np.iinfo(np.int16).max\n",
    "# from https://docs.scipy.org/doc/scipy/reference/generated/scipy.io.wavfile.write.html\n",
    "A = 1\n",
    "\n",
    "#for i in range(l_ts):\n",
    "for i in range(l_ts):\n",
    "    \n",
    "    index = int(np.floor(ts[i]/t_note)) #this t_note was just added to use intervals other than 1 second, not sure if I divide or multiply\n",
    "    #print(index)    \n",
    "    n = ints[index] \n",
    "    n2 = ints2[index]\n",
    "    #print(n)\n",
    "    \n",
    "    f = fs[n]\n",
    "    f2 = fs[n2]\n",
    "    \n",
    "    #print(f)\n",
    "        \n",
    "    Ps = np.append(Ps,[A*np.sin(2*np.pi*f*ts[i])+A*np.sin(2*np.pi*f2*ts[i])])\n",
    "\n",
    "print(Ps)\n"
   ]
  },
  {
   "cell_type": "code",
   "execution_count": 42,
   "metadata": {},
   "outputs": [
    {
     "data": {
      "text/plain": [
       "100000"
      ]
     },
     "execution_count": 42,
     "metadata": {},
     "output_type": "execute_result"
    }
   ],
   "source": [
    "np.size(Ps)"
   ]
  },
  {
   "cell_type": "code",
   "execution_count": 48,
   "metadata": {},
   "outputs": [
    {
     "data": {
      "text/plain": [
       "(4.0, 4.05)"
      ]
     },
     "execution_count": 48,
     "metadata": {},
     "output_type": "execute_result"
    },
    {
     "data": {
      "image/png": "[encoded data removed]",
      "text/plain": [
       "<Figure size 432x288 with 1 Axes>"
      ]
     },
     "metadata": {
      "needs_background": "light"
     },
     "output_type": "display_data"
    }
   ],
   "source": [
    "fig, ax = plt.subplots()  \n",
    "ax.plot(ts, Ps)\n",
    "ax.set_xlim(4, 4.05)"
   ]
  },
  {
   "cell_type": "code",
   "execution_count": 44,
   "metadata": {},
   "outputs": [
    {
     "data": {
      "text/plain": [
       "32767"
      ]
     },
     "execution_count": 44,
     "metadata": {},
     "output_type": "execute_result"
    }
   ],
   "source": [
    "np.iinfo(np.int16).max"
   ]
  },
  {
   "cell_type": "code",
   "execution_count": 46,
   "metadata": {},
   "outputs": [],
   "source": [
    "# scipy.io.wavfile.write(filename, rate, data)\n",
    "\n",
    "data = Ps * np.iinfo(np.int16).max/4\n",
    "\n",
    "write(\"song55.wav\", rate, data.astype(np.int16))"
   ]
  },
  {
   "cell_type": "code",
   "execution_count": 3,
   "metadata": {},
   "outputs": [
    {
     "ename": "ValueError",
     "evalue": "Namespace Gst not available",
     "output_type": "error",
     "traceback": [
      "\u001b[0;31m---------------------------------------------------------------------------\u001b[0m",
      "\u001b[0;31mValueError\u001b[0m                                Traceback (most recent call last)",
      "\u001b[0;32m<ipython-input-3-132c4f7f53f7>\u001b[0m in \u001b[0;36m<module>\u001b[0;34m\u001b[0m\n\u001b[0;32m----> 1\u001b[0;31m \u001b[0mplaysound\u001b[0m\u001b[0;34m(\u001b[0m\u001b[0;34m\"song4.wav\"\u001b[0m\u001b[0;34m)\u001b[0m\u001b[0;34m\u001b[0m\u001b[0;34m\u001b[0m\u001b[0m\n\u001b[0m",
      "\u001b[0;32m~/.local/lib/python3.6/site-packages/playsound.py\u001b[0m in \u001b[0;36m_playsoundNix\u001b[0;34m(sound, block)\u001b[0m\n\u001b[1;32m     90\u001b[0m \u001b[0;34m\u001b[0m\u001b[0m\n\u001b[1;32m     91\u001b[0m     \u001b[0;32mimport\u001b[0m \u001b[0mgi\u001b[0m\u001b[0;34m\u001b[0m\u001b[0;34m\u001b[0m\u001b[0m\n\u001b[0;32m---> 92\u001b[0;31m     \u001b[0mgi\u001b[0m\u001b[0;34m.\u001b[0m\u001b[0mrequire_version\u001b[0m\u001b[0;34m(\u001b[0m\u001b[0;34m'Gst'\u001b[0m\u001b[0;34m,\u001b[0m \u001b[0;34m'1.0'\u001b[0m\u001b[0;34m)\u001b[0m\u001b[0;34m\u001b[0m\u001b[0;34m\u001b[0m\u001b[0m\n\u001b[0m\u001b[1;32m     93\u001b[0m     \u001b[0;32mfrom\u001b[0m \u001b[0mgi\u001b[0m\u001b[0;34m.\u001b[0m\u001b[0mrepository\u001b[0m \u001b[0;32mimport\u001b[0m \u001b[0mGst\u001b[0m\u001b[0;34m\u001b[0m\u001b[0;34m\u001b[0m\u001b[0m\n\u001b[1;32m     94\u001b[0m \u001b[0;34m\u001b[0m\u001b[0m\n",
      "\u001b[0;32m/usr/lib/python3/dist-packages/gi/__init__.py\u001b[0m in \u001b[0;36mrequire_version\u001b[0;34m(namespace, version)\u001b[0m\n\u001b[1;32m    128\u001b[0m     \u001b[0mavailable_versions\u001b[0m \u001b[0;34m=\u001b[0m \u001b[0mrepository\u001b[0m\u001b[0;34m.\u001b[0m\u001b[0menumerate_versions\u001b[0m\u001b[0;34m(\u001b[0m\u001b[0mnamespace\u001b[0m\u001b[0;34m)\u001b[0m\u001b[0;34m\u001b[0m\u001b[0;34m\u001b[0m\u001b[0m\n\u001b[1;32m    129\u001b[0m     \u001b[0;32mif\u001b[0m \u001b[0;32mnot\u001b[0m \u001b[0mavailable_versions\u001b[0m\u001b[0;34m:\u001b[0m\u001b[0;34m\u001b[0m\u001b[0;34m\u001b[0m\u001b[0m\n\u001b[0;32m--> 130\u001b[0;31m         \u001b[0;32mraise\u001b[0m \u001b[0mValueError\u001b[0m\u001b[0;34m(\u001b[0m\u001b[0;34m'Namespace %s not available'\u001b[0m \u001b[0;34m%\u001b[0m \u001b[0mnamespace\u001b[0m\u001b[0;34m)\u001b[0m\u001b[0;34m\u001b[0m\u001b[0;34m\u001b[0m\u001b[0m\n\u001b[0m\u001b[1;32m    131\u001b[0m \u001b[0;34m\u001b[0m\u001b[0m\n\u001b[1;32m    132\u001b[0m     \u001b[0;32mif\u001b[0m \u001b[0mversion\u001b[0m \u001b[0;32mnot\u001b[0m \u001b[0;32min\u001b[0m \u001b[0mavailable_versions\u001b[0m\u001b[0;34m:\u001b[0m\u001b[0;34m\u001b[0m\u001b[0;34m\u001b[0m\u001b[0m\n",
      "\u001b[0;31mValueError\u001b[0m: Namespace Gst not available"
     ]
    }
   ],
   "source": []
  },
  {
   "cell_type": "code",
   "execution_count": null,
   "metadata": {},
   "outputs": [],
   "source": []
  }
 ],
 "metadata": {
  "kernelspec": {
   "display_name": "Python 3",
   "language": "python",
   "name": "python3"
  },
  "language_info": {
   "codemirror_mode": {
    "name": "ipython",
    "version": 3
   },
   "file_extension": ".py",
   "mimetype": "text/x-python",
   "name": "python",
   "nbconvert_exporter": "python",
   "pygments_lexer": "ipython3",
   "version": "3.6.9"
  }
 },
 "nbformat": 4,
 "nbformat_minor": 4
}
