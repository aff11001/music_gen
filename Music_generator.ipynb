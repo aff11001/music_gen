{
 "cells": [
  {
   "cell_type": "code",
   "execution_count": 70,
   "metadata": {},
   "outputs": [],
   "source": [
    "import scipy as sci\n",
    "\n",
    "import numpy as np\n",
    "\n",
    "import matplotlib.pyplot as plt\n",
    "\n",
    "from scipy.io.wavfile import write"
   ]
  },
  {
   "cell_type": "code",
   "execution_count": 71,
   "metadata": {},
   "outputs": [],
   "source": [
    "# need to write something that maps a string of notes:\n",
    "\n",
    "# ref: https://pypi.org/project/playsound/\n",
    "# https://towardsdatascience.com/mathematics-of-music-in-python-b7d838c84f72\n",
    "# https://github.com/weeping-angel/Mathematics-of-Music\n",
    "\n",
    "# C major songs\n",
    "# C - D - E - F - G - A - B\n",
    "\n",
    "# randomly generate a digit from 1 through 7\n"
   ]
  },
  {
   "cell_type": "code",
   "execution_count": 72,
   "metadata": {},
   "outputs": [
    {
     "name": "stdout",
     "output_type": "stream",
     "text": [
      "[4 0 4 4 1 6 1 1 6 0 1 5 1 3 3 5]\n"
     ]
    }
   ],
   "source": [
    "m = 4 #number of measures\n",
    "l_ints = m*4\n",
    "\n",
    "ints = np.random.randint(0,7,l_ints) # rand ints length of the measures\n",
    "np.max(ints)\n",
    "print(ints)\n",
    "\n"
   ]
  },
  {
   "cell_type": "code",
   "execution_count": 73,
   "metadata": {},
   "outputs": [
    {
     "name": "stdout",
     "output_type": "stream",
     "text": [
      "['a', 'b', 'c', 'd', 'e', 'f', 'g']\n"
     ]
    }
   ],
   "source": [
    "#convert ints to strings\n",
    "notes = ['a','b','c','d','e','f','g']\n",
    "print(notes)"
   ]
  },
  {
   "cell_type": "code",
   "execution_count": 74,
   "metadata": {},
   "outputs": [
    {
     "data": {
      "text/plain": [
       "'a'"
      ]
     },
     "execution_count": 74,
     "metadata": {},
     "output_type": "execute_result"
    }
   ],
   "source": [
    "notes[0]"
   ]
  },
  {
   "cell_type": "code",
   "execution_count": 75,
   "metadata": {},
   "outputs": [],
   "source": [
    "#mel = ''\n",
    "\n",
    "#for i in range(l_ints):\n",
    "    \n",
    "#    print(notes[ints[i]])\n",
    "    \n",
    "#    mel = mel + notes[ints[i]]"
   ]
  },
  {
   "cell_type": "code",
   "execution_count": 76,
   "metadata": {},
   "outputs": [
    {
     "name": "stdout",
     "output_type": "stream",
     "text": [
      "aggffbdbfbcbffbc\n"
     ]
    }
   ],
   "source": [
    "print(mel)"
   ]
  },
  {
   "cell_type": "code",
   "execution_count": 77,
   "metadata": {},
   "outputs": [],
   "source": [
    "# frequencies from middle C (C4)\n",
    "# https://pages.mtu.edu/~suits/notefreqs.html\n",
    "\n",
    "# frequency (Hz) and wavelength (cm)\n",
    "\n",
    "# A3 - 220.00, 156.82\n",
    "# B3 - 246.94, 139.71 \n",
    "# C4 - 261.63, 131.87\n",
    "# D4 - 293.66, 117.48\n",
    "# E4 - 329.63, 104.66\n",
    "# F4 - 349.23, 98.79\n",
    "# G4 - 392.00, 88.01\n"
   ]
  },
  {
   "cell_type": "code",
   "execution_count": 78,
   "metadata": {},
   "outputs": [],
   "source": [
    "# https://pages.mtu.edu/~suits/Physicsofmusic.html\n",
    "\n",
    "# simplest model of musical sound, sign wave\n",
    "# https://amath.colorado.edu/pub/matlab/music/MathMusic.pdf\n",
    "\n",
    "# wave equation: P = A sin (2*pi*f*t)\n",
    "# P is pressure\n",
    "# A is amplitude (corresponds to volume)\n",
    "# f is frequency\n",
    "# t is period\n",
    "\n",
    "As = np.ones((l_ints)) #amplidule\n",
    "fs = np.array([220.00,246.94,261.63,293.66,329.63,349.23,392.00])\n"
   ]
  },
  {
   "cell_type": "code",
   "execution_count": 79,
   "metadata": {},
   "outputs": [
    {
     "name": "stdout",
     "output_type": "stream",
     "text": [
      "12500\n"
     ]
    }
   ],
   "source": [
    "# need to find a time interval to play the song, the wave switches to the form of the random note\n",
    "\n",
    "# each note is 1 second\n",
    "\n",
    "# time in seconds: \n",
    "\n",
    "t = l_ints\n",
    "\n",
    "l_ts= 100000\n",
    "\n",
    "t_note = 0.5\n",
    "\n",
    "ts = np.arange(0,l_ts)/l_ts*(l_ints*t_note)\n",
    "\n",
    "rate = int(l_ts/(l_ints*t_note))\n",
    "\n",
    "print(rate)"
   ]
  },
  {
   "cell_type": "code",
   "execution_count": 80,
   "metadata": {},
   "outputs": [
    {
     "name": "stdout",
     "output_type": "stream",
     "text": [
      "[]\n"
     ]
    },
    {
     "data": {
      "text/plain": [
       "3.141592653589793"
      ]
     },
     "execution_count": 80,
     "metadata": {},
     "output_type": "execute_result"
    }
   ],
   "source": [
    "Ps = np.array([])\n",
    "print(Ps)\n",
    "np.pi"
   ]
  },
  {
   "cell_type": "code",
   "execution_count": 81,
   "metadata": {},
   "outputs": [
    {
     "name": "stdout",
     "output_type": "stream",
     "text": [
      "[ 0.          0.16493303  0.32534847 ... -0.99924504 -0.97710372\n",
      " -0.92493015]\n"
     ]
    }
   ],
   "source": [
    "#can I make this not a loop?\n",
    "\n",
    "t0 = 0\n",
    "\n",
    "# amplitude = np.iinfo(np.int16).max\n",
    "# from https://docs.scipy.org/doc/scipy/reference/generated/scipy.io.wavfile.write.html\n",
    "A = 1\n",
    "\n",
    "#for i in range(l_ts):\n",
    "for i in range(l_ts):\n",
    "    \n",
    "    index = int(np.floor(ts[i]/t_note)) #this t_note was just added to use intervals other than 1 second, not sure if I divide or multiply\n",
    "    #print(index)    \n",
    "    n = ints[index]\n",
    "    \n",
    "    #print(n)\n",
    "    \n",
    "    f = fs[n]\n",
    "    \n",
    "    #print(f)\n",
    "        \n",
    "    Ps = np.append(Ps,A*np.sin(2*np.pi*f*ts[i]))\n",
    "\n",
    "print(Ps)"
   ]
  },
  {
   "cell_type": "code",
   "execution_count": 82,
   "metadata": {},
   "outputs": [
    {
     "data": {
      "text/plain": [
       "(4.0, 4.01)"
      ]
     },
     "execution_count": 82,
     "metadata": {},
     "output_type": "execute_result"
    },
    {
     "data": {
      "image/png": "[encoded data removed]",
      "text/plain": [
       "<Figure size 432x288 with 1 Axes>"
      ]
     },
     "metadata": {
      "needs_background": "light"
     },
     "output_type": "display_data"
    }
   ],
   "source": [
    "fig, ax = plt.subplots()  \n",
    "ax.plot(ts, Ps)\n",
    "ax.set_xlim(4, 4.01)"
   ]
  },
  {
   "cell_type": "code",
   "execution_count": 83,
   "metadata": {},
   "outputs": [
    {
     "data": {
      "text/plain": [
       "32767"
      ]
     },
     "execution_count": 83,
     "metadata": {},
     "output_type": "execute_result"
    }
   ],
   "source": [
    "np.iinfo(np.int16).max"
   ]
  },
  {
   "cell_type": "code",
   "execution_count": 84,
   "metadata": {},
   "outputs": [],
   "source": [
    "# scipy.io.wavfile.write(filename, rate, data)\n",
    "\n",
    "data = Ps * np.iinfo(np.int16).max/4\n",
    "\n",
    "write(\"song3.wav\", rate, data.astype(np.int16))"
   ]
  },
  {
   "cell_type": "code",
   "execution_count": null,
   "metadata": {},
   "outputs": [],
   "source": []
  }
 ],
 "metadata": {
  "kernelspec": {
   "display_name": "Python 3",
   "language": "python",
   "name": "python3"
  },
  "language_info": {
   "codemirror_mode": {
    "name": "ipython",
    "version": 3
   },
   "file_extension": ".py",
   "mimetype": "text/x-python",
   "name": "python",
   "nbconvert_exporter": "python",
   "pygments_lexer": "ipython3",
   "version": "3.6.9"
  }
 },
 "nbformat": 4,
 "nbformat_minor": 4
}
